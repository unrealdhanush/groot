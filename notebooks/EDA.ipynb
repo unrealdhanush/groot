{
 "cells": [
  {
   "cell_type": "code",
   "execution_count": null,
   "metadata": {
    "vscode": {
     "languageId": "plaintext"
    }
   },
   "outputs": [],
   "source": [
    "import pandas as pd\n",
    "import matplotlib.pyplot as plt\n",
    "import seaborn as sns\n",
    "from IPython.display import display\n",
    "import os"
   ]
  },
  {
   "cell_type": "code",
   "execution_count": null,
   "metadata": {
    "vscode": {
     "languageId": "plaintext"
    }
   },
   "outputs": [],
   "source": [
    "DATA_PATH = os.path.abspath(os.path.join(\"..\", \"data\", \"processed\", \"processed_cohort.csv\"))\n",
    "df = pd.read_csv(DATA_PATH)"
   ]
  },
  {
   "cell_type": "code",
   "execution_count": null,
   "metadata": {
    "vscode": {
     "languageId": "plaintext"
    }
   },
   "outputs": [],
   "source": [
    "display(df.head())\n",
    "display(df.info())\n",
    "display(df.describe())"
   ]
  },
  {
   "cell_type": "code",
   "execution_count": null,
   "metadata": {
    "vscode": {
     "languageId": "plaintext"
    }
   },
   "outputs": [],
   "source": [
    "target_counts = df['READMITTED_WITHIN_30D'].value_counts()\n",
    "print(\"Target Distribution:\")\n",
    "display(target_counts)"
   ]
  },
  {
   "cell_type": "code",
   "execution_count": null,
   "metadata": {
    "vscode": {
     "languageId": "plaintext"
    }
   },
   "outputs": [],
   "source": [
    "sns.countplot(x='READMITTED_WITHIN_30D', data=df)\n",
    "plt.title(\"Target Distribution (Readmission within 30 days)\")\n",
    "plt.show()"
   ]
  },
  {
   "cell_type": "code",
   "execution_count": null,
   "metadata": {
    "vscode": {
     "languageId": "plaintext"
    }
   },
   "outputs": [],
   "source": [
    "missing_perc = df.isna().mean().sort_values(ascending=False)\n",
    "print(\"Missing values percentage:\")\n",
    "display(missing_perc)"
   ]
  },
  {
   "cell_type": "code",
   "execution_count": null,
   "metadata": {
    "vscode": {
     "languageId": "plaintext"
    }
   },
   "outputs": [],
   "source": [
    "df['AGE_AT_ADMISSION'] = (pd.to_datetime(df['ADMITTIME']) - pd.to_datetime(df['DOB'])).dt.days / 365.25\n",
    "sns.histplot(data=df, x='AGE_AT_ADMISSION', hue='READMITTED_WITHIN_30D', element='step', kde=True)\n",
    "plt.title(\"Age Distribution by Readmission Status\")\n",
    "plt.show()"
   ]
  },
  {
   "cell_type": "code",
   "execution_count": null,
   "metadata": {
    "vscode": {
     "languageId": "plaintext"
    }
   },
   "outputs": [],
   "source": [
    "sns.countplot(x='GENDER', hue='READMITTED_WITHIN_30D', data=df)\n",
    "plt.title(\"Gender vs Readmission\")\n",
    "plt.show()"
   ]
  },
  {
   "cell_type": "code",
   "execution_count": null,
   "metadata": {
    "vscode": {
     "languageId": "plaintext"
    }
   },
   "outputs": [],
   "source": [
    "sns.histplot(data=df, x='NUM_DIAGNOSES', hue='READMITTED_WITHIN_30D', kde=True, element='step')\n",
    "plt.title(\"Number of Diagnoses vs Readmission\")\n",
    "plt.show()"
   ]
  }
 ],
 "metadata": {
  "language_info": {
   "name": "python"
  }
 },
 "nbformat": 4,
 "nbformat_minor": 2
}
